{
 "cells": [
  {
   "cell_type": "markdown",
   "metadata": {
    "colab_type": "text",
    "id": "GPycKx1jICLG"
   },
   "source": [
    "# Clases en Python\n",
    "\n",
    "## 1 Clases y Objetos\n",
    "\n",
    "### 1.1 ¿Qué son los objetos?\n",
    "Python es un lenguaje de programacion orientado a objetos. Esto quiere decir que posee un tipo de variable particular llamada objeto. Un objeto es un paquete de variables y funciones que conviene tener agrupados por consistencia y comodidad.\n",
    "\n",
    "### 1.2 ¿Qué son las clases?\n",
    "Los objetos tienen una estructura, están compuestos por un conjunto determinado de variables y funciones, a los que llamamos **atributos**. \n",
    "\n",
    "Esta estructura de los objetos no se explicita en el código cada vez que definimos un objeto. En cambio, los objetos suelen crearse a partir de unas *plantillas* a las que llamamos **clases**.\n",
    "\n",
    "Las **clases** le dan la forma a los objetos, definen las variable y funciones que componen a estos objetos.\n",
    "\n",
    "\n",
    "\n",
    "**Definimos una clase**\n",
    "\n",
    "Comenzaremos por definir una clase muy simple, a la que llamaremos `Persona`. Esta clase será la plantilla a través de la cual generaremos objetos, a los que llamaremos **instancias** de esta clase. \n",
    "\n",
    "Para empezar este ejemplo, le daremos los atributos que pensamos indispensables para definir una persona: nombre y edad."
   ]
  },
  {
   "cell_type": "code",
   "execution_count": 1,
   "metadata": {
    "colab": {},
    "colab_type": "code",
    "id": "3f8zS8UVDf7h"
   },
   "outputs": [],
   "source": [
    "class Persona:\n",
    "    \"\"\"\n",
    "    Esta es una clase donde se agregan todos los datos\n",
    "    respecto a una persona\n",
    "    \"\"\"\n",
    "    def __init__(self, nombre, edad):\n",
    "        # Todo lo que definamos en __init__ se corre\n",
    "        # al crear una instancia de la clase\n",
    "        self.nombre = nombre\n",
    "        self.edad = edad"
   ]
  },
  {
   "cell_type": "markdown",
   "metadata": {
    "colab_type": "text",
    "id": "6BvaWE4ODf7m"
   },
   "source": [
    "Hasta ahora no creamos un objeto, sólo definimos la forma que tendrán los objetos de la clase `Persona`. \n",
    "\n",
    "Ahora, usando esta plantilla, sí crearemos una **instancia** de la clase `Persona`, a la que llamaremos p1."
   ]
  },
  {
   "cell_type": "code",
   "execution_count": 2,
   "metadata": {
    "colab": {},
    "colab_type": "code",
    "id": "61NtOauTDf7n",
    "outputId": "437b0368-c334-43c7-9ed1-7f6a7b7da43a"
   },
   "outputs": [
    {
     "name": "stdout",
     "output_type": "stream",
     "text": [
      "Juan\n",
      "26\n"
     ]
    }
   ],
   "source": [
    "p1 = Persona(\"Juan\", 26)\n",
    "\n",
    "print(p1.nombre)\n",
    "print(p1.edad)"
   ]
  },
  {
   "cell_type": "markdown",
   "metadata": {
    "colab_type": "text",
    "id": "iiuysS0ODf7s"
   },
   "source": [
    "Al inspeccionar el tipo de variable, python nos avisa que p1 es un objeto perteneciente a la clase Persona:"
   ]
  },
  {
   "cell_type": "code",
   "execution_count": 4,
   "metadata": {
    "colab": {},
    "colab_type": "code",
    "id": "emWuClVPDf7s",
    "outputId": "de8f8948-2e5a-45c4-aad3-d59b0107f0f0"
   },
   "outputs": [
    {
     "data": {
      "text/plain": [
       "__main__.Persona"
      ]
     },
     "execution_count": 4,
     "metadata": {},
     "output_type": "execute_result"
    }
   ],
   "source": [
    "type(p1)"
   ]
  },
  {
   "cell_type": "markdown",
   "metadata": {
    "colab_type": "text",
    "id": "yXokYBVsDf73"
   },
   "source": [
    "Los atributos de una instancia de la clase pueden modificarse como cualquier variable:"
   ]
  },
  {
   "cell_type": "code",
   "execution_count": 3,
   "metadata": {
    "colab": {},
    "colab_type": "code",
    "id": "wYTbNFDhDf75",
    "outputId": "dba781e6-7f16-42aa-9026-cc9cdb8a6d82"
   },
   "outputs": [
    {
     "data": {
      "text/plain": [
       "30"
      ]
     },
     "execution_count": 3,
     "metadata": {},
     "output_type": "execute_result"
    }
   ],
   "source": [
    "p1.edad = 30\n",
    "p1.edad"
   ]
  },
  {
   "cell_type": "markdown",
   "metadata": {
    "colab_type": "text",
    "id": "UXpEJ5wFDf7-"
   },
   "source": [
    "**Ejercicio:** crea una clase llamada `Rectangulo`, cuyos atributos sean las variables `largo_lado_1` y `largo_lado_2`. Luego, crea una instancia de esta clase llamada `c1`, con lados de largo 10 y 20."
   ]
  },
  {
   "cell_type": "code",
   "execution_count": 7,
   "metadata": {
    "colab": {},
    "colab_type": "code",
    "id": "gZZE0PnSDf7-",
    "outputId": "9ff04d9b-a93b-4d28-ad8f-99443d7bbb3f"
   },
   "outputs": [],
   "source": [
    "class Rectangulo:\n",
    "    def __init__(self, largo_lado_1, largo_lado_2):\n",
    "        self.largo_lado_1 = largo_lado_1\n",
    "        self.largo_lado_2 = largo_lado_2"
   ]
  },
  {
   "cell_type": "code",
   "execution_count": 8,
   "metadata": {
    "colab": {},
    "colab_type": "code",
    "id": "o-6TXaJnDf8C",
    "outputId": "da9e44ca-4996-4291-ce24-e54c104f7b1a"
   },
   "outputs": [],
   "source": [
    "c1 = Rectangulo(10,20)"
   ]
  },
  {
   "cell_type": "code",
   "execution_count": 9,
   "metadata": {},
   "outputs": [
    {
     "name": "stdout",
     "output_type": "stream",
     "text": [
      "10\n",
      "20\n"
     ]
    }
   ],
   "source": [
    "#Mostremos los valores de los atributos del objeto\n",
    "print(c1.largo_lado_1)\n",
    "print(c1.largo_lado_2)"
   ]
  },
  {
   "cell_type": "markdown",
   "metadata": {
    "colab_type": "text",
    "id": "N1iZP4U2Df8K"
   },
   "source": [
    "### 1.3 Métodos\n",
    "A las funciones que componen una clase las llamamos **métodos**. Estas funciones pueden llamarse poniendo el nombre de una instancia de la clase seguido de un punto y el nombre del método. Los métodos pueden actuar sobre los valores de otros atributos de esa instancia, pueden devolver algun output a traves de `return` o pueden hacer ambas cosas.\n",
    "\n",
    "Vamos a darle un método a la clase persona, para esto vamos a redefinir la clase como:"
   ]
  },
  {
   "cell_type": "code",
   "execution_count": 10,
   "metadata": {
    "colab": {},
    "colab_type": "code",
    "id": "x7rOAm57Df8M"
   },
   "outputs": [],
   "source": [
    "class Persona:\n",
    "    \"\"\"\n",
    "    Esta es una clase donde se agregan todos los datos\n",
    "    respecto a una persona\n",
    "    \"\"\"\n",
    "    def __init__(self, nombre, edad):\n",
    "        # Todo lo que definamos en __init__ se corre\n",
    "        # al crear una instancia de la clase\n",
    "        self.nombre = nombre\n",
    "        self.edad = edad\n",
    "        \n",
    "    def mePresento(self):\n",
    "        print(\"Hola, me llamo \" + self.nombre)"
   ]
  },
  {
   "cell_type": "code",
   "execution_count": 64,
   "metadata": {
    "colab": {},
    "colab_type": "code",
    "id": "o1GumL14Df8Q",
    "outputId": "4118addf-1961-4f94-8df8-b3015b898119"
   },
   "outputs": [
    {
     "name": "stdout",
     "output_type": "stream",
     "text": [
      "Hola, me llamo Juan\n"
     ]
    }
   ],
   "source": [
    "p1 = Persona(\"Juan\", 26)\n",
    "p1.mePresento()"
   ]
  },
  {
   "cell_type": "markdown",
   "metadata": {
    "colab_type": "text",
    "id": "6z3FMfFpDf8T"
   },
   "source": [
    "Como ya dijimos, los métodos tambien pueden modificar el valor de ciertos atributos de una instancia. Vamos a crear un método para la clase persona, que haga cumplir un año a la persona y al mismo tiempo nos devuelva el valor de su edad:"
   ]
  },
  {
   "cell_type": "code",
   "execution_count": 11,
   "metadata": {
    "colab": {},
    "colab_type": "code",
    "id": "RWyQjCiBDf8V"
   },
   "outputs": [],
   "source": [
    "class Persona:\n",
    "    \"\"\"\n",
    "    Esta es una clase donde se agregan todos los datos\n",
    "    respecto a una persona\n",
    "    \"\"\"\n",
    "    def __init__(self, nombre, edad):\n",
    "        # Todo lo que definamos en __init__ se corre\n",
    "        # al crear una instancia de la clase\n",
    "        self.nombre = nombre\n",
    "        self.edad = edad\n",
    "        \n",
    "    def mePresento(self):\n",
    "        print(\"Hola, me llamo \" + self.nombre)\n",
    "    \n",
    "    def cumplirAnios(self):\n",
    "        self.edad = self.edad + 1\n",
    "        # El return hace que, al ejecutar el método,\n",
    "        # el mismo devuelva el valor de la edad \n",
    "        return self.edad"
   ]
  },
  {
   "cell_type": "code",
   "execution_count": 13,
   "metadata": {
    "colab": {},
    "colab_type": "code",
    "id": "8KMgHX1sDf8c",
    "outputId": "7758ba48-1336-4a59-ab3b-4c9a0cee8919"
   },
   "outputs": [
    {
     "data": {
      "text/plain": [
       "27"
      ]
     },
     "execution_count": 13,
     "metadata": {},
     "output_type": "execute_result"
    }
   ],
   "source": [
    "p1 = Persona(\"Juan\", 26)\n",
    "p1.cumplirAnios()"
   ]
  },
  {
   "cell_type": "code",
   "execution_count": 14,
   "metadata": {
    "colab": {},
    "colab_type": "code",
    "id": "z4eEqCTlDf8f",
    "outputId": "71938b7e-9c55-4255-ef1c-2987db07ce48"
   },
   "outputs": [
    {
     "data": {
      "text/plain": [
       "27"
      ]
     },
     "execution_count": 14,
     "metadata": {},
     "output_type": "execute_result"
    }
   ],
   "source": [
    "p1.edad"
   ]
  },
  {
   "cell_type": "markdown",
   "metadata": {
    "colab_type": "text",
    "id": "enUnVhGUDf8i"
   },
   "source": [
    "¿Notaron que los atributos los definimos dentro de un método llamado `__init__ `?\n",
    "\n",
    "Estos nombres de métodos con doble guión-bajo a los costados indican que se trata de un **método mágico**. Son nombres especiales que Python se reserva para métodos que tienen una función específica. Por ejemplo, el método mágico `__init__` se correrá automáticamente cuando creemos una instancia de la clase.\n",
    "\n",
    "Veamos un ejemplo donde dentro del método `__init__` agregamos algún otro bloque de código:"
   ]
  },
  {
   "cell_type": "code",
   "execution_count": 15,
   "metadata": {
    "colab": {},
    "colab_type": "code",
    "id": "EoCfp55sDf8j"
   },
   "outputs": [],
   "source": [
    "class Persona:\n",
    "    \"\"\"\n",
    "    Esta es una clase donde se agregan todos los datos\n",
    "    respecto a una persona\n",
    "    \"\"\"\n",
    "    def __init__(self, nombre, edad):\n",
    "        # Todo lo que definamos en __init__ se corre\n",
    "        # al crear una instancia de la clase\n",
    "        self.nombre = nombre\n",
    "        self.edad = edad\n",
    "        \n",
    "        print('Una persona nueva ha sido creada!')\n",
    "        \n",
    "    def mePresento(self):\n",
    "        print(\"Hola, me llamo \" + self.nombre)\n",
    "    \n",
    "    def cumplirAnios(self):\n",
    "        self.edad = self.edad + 1\n",
    "        # El return hace que, al ejecutar el método,\n",
    "        # el mismo devuelva el valor de la edad \n",
    "        return self.edad\n",
    "    \n",
    "#Notemos que al instanciar un nuevo objeto de la clase persona, se nos muestra el print asociado a la instanciacion __init__"
   ]
  },
  {
   "cell_type": "code",
   "execution_count": 16,
   "metadata": {
    "colab": {},
    "colab_type": "code",
    "id": "GtD0BRqhDf8l",
    "outputId": "dcfcc94c-b145-4bd5-f0bf-63b42a81b710"
   },
   "outputs": [
    {
     "name": "stdout",
     "output_type": "stream",
     "text": [
      "Una persona nueva ha sido creada!\n"
     ]
    }
   ],
   "source": [
    "p1 = Persona(\"Ernesto\", 40)"
   ]
  },
  {
   "cell_type": "markdown",
   "metadata": {
    "colab_type": "text",
    "id": "eOuuzeC3Df84"
   },
   "source": [
    "### 1.4 Consistencia\n",
    "\n",
    "Uno de los beneficios de trabajar con clases es el hecho de poder chequear la consistencia de los distintos atributos pertenecientes a una misma instancia de esa clase. Supongamos que tenemos una clase llamada `Departamento`. Esta clase agrupa todos las variables relacionadas a un mismo departamento. Esto nos permite chequear que todas estas variables guarden una relación adecuada. Por ejemplo, sabemos que la superficie cubierta no puede ser mayor a la superficie total. Entonces: "
   ]
  },
  {
   "cell_type": "code",
   "execution_count": 72,
   "metadata": {
    "colab": {},
    "colab_type": "code",
    "id": "-M1ohuf8Df87"
   },
   "outputs": [],
   "source": [
    "class Departamento:\n",
    "    def __init__(self, calle, altura, piso, sup_total, sup_cubierta):\n",
    "        self.calle = calle\n",
    "        self.altura = altura\n",
    "        self.piso = piso\n",
    "        self.sup_total = sup_total\n",
    "        if sup_cubierta < sup_total:\n",
    "            self.sup_cubierta = self.sup_cubierta\n",
    "        else:\n",
    "            print(\"El valor de superficie cubierta ingresado es inconsistente\")\n",
    "            self.sup_cubierta = self.sup_total\n",
    "            \n",
    "#Noten que la estructura condicional que se evalúa es: 455(sup_cubierta) < 50(sup_total) ---> Falso y ahi muestra el print\n",
    "#y realiza la asignación de self.sup_cubierta = 50"
   ]
  },
  {
   "cell_type": "code",
   "execution_count": 73,
   "metadata": {
    "colab": {},
    "colab_type": "code",
    "id": "tu-SHHF8Df8_",
    "outputId": "fb49152b-1136-4ebb-ce4a-a70646c8c1da"
   },
   "outputs": [
    {
     "name": "stdout",
     "output_type": "stream",
     "text": [
      "El valor de superficie cubierta ingresado es inconsistente\n"
     ]
    }
   ],
   "source": [
    "depto_1 = Departamento('Humboldt',1122,4,50,455)"
   ]
  },
  {
   "cell_type": "code",
   "execution_count": 74,
   "metadata": {
    "colab": {},
    "colab_type": "code",
    "id": "pNXFWfAxDf9P",
    "outputId": "b7e1b33a-f3f3-491e-fbbb-0a578bf3cb8c"
   },
   "outputs": [
    {
     "data": {
      "text/plain": [
       "50"
      ]
     },
     "execution_count": 74,
     "metadata": {},
     "output_type": "execute_result"
    }
   ],
   "source": [
    "depto_1.sup_cubierta"
   ]
  },
  {
   "cell_type": "markdown",
   "metadata": {
    "colab_type": "text",
    "id": "CVximuuoDf9U"
   },
   "source": [
    "Otro de los beneficios de trabajar con objetos consiste en tener todas las variables relevantes agrupadas en un mismo objeto. De esta forma se nos facilita la tarea a la hora de mover esta información. Por ejemplo, si tenemos una función que calcula el precio de un departamento en base a distintas propiedades del mismo, sería mucho más fácil para nosotros pasarle a esa función un único argumento (el objeto departameto), y no cada uno de sus atributos:"
   ]
  },
  {
   "cell_type": "code",
   "execution_count": 75,
   "metadata": {
    "colab": {},
    "colab_type": "code",
    "id": "vVy-ehCfDf9V"
   },
   "outputs": [],
   "source": [
    "def CalculaPrecios(depto):\n",
    "    precio = 2000 * depto.sup_total + 500 * depto.piso\n",
    "    return precio\n",
    "\n",
    "#precio = (2000 * 50) + (500 * 4) = 102000"
   ]
  },
  {
   "cell_type": "code",
   "execution_count": 76,
   "metadata": {
    "colab": {},
    "colab_type": "code",
    "id": "9kfl93zWDf9X",
    "outputId": "a8291f25-de2a-4dbb-9164-fb744a6a5f38"
   },
   "outputs": [
    {
     "data": {
      "text/plain": [
       "102000"
      ]
     },
     "execution_count": 76,
     "metadata": {},
     "output_type": "execute_result"
    }
   ],
   "source": [
    "CalculaPrecios(depto_1) #El objeto depto_1 ya tuve que haber sido instanciado previamente\n",
    "\n",
    "#Aclaración: Fijense que solo le envio el depto al cual quiero aplicarle la función \"CalculaPrecios\"\n",
    "#dentro de la funnción realizo todos los cálculos matemáticos asociados."
   ]
  },
  {
   "cell_type": "markdown",
   "metadata": {},
   "source": [
    "En algunas circunstancias, esa función podría ser parte de la clase, siendo en ese caso un método."
   ]
  },
  {
   "cell_type": "markdown",
   "metadata": {
    "colab_type": "text",
    "id": "NKUefce7Df8q"
   },
   "source": [
    "### Ejercicio - Challenge\n",
    "* Agregar a la clase llamada `Rectangulo` un método llamado `ladoMasLargo` que devuelva el valor del lado mas largo.\n",
    "* Agregue en el `__init__` de `Rectangulo` un nuevo atributo de la clase llamado `area`. El valor de este atributo debe generarse automáticamente a partir de los valores de los lados (recuerde que el área de un rectangulo se calcula multiplicando el largo de sus lados).\n",
    "* Cree una instancia de la clase y verifique que su código funcione adecuadamente"
   ]
  },
  {
   "cell_type": "code",
   "execution_count": 20,
   "metadata": {
    "colab": {},
    "colab_type": "code",
    "id": "VE9IiONUDf8r"
   },
   "outputs": [],
   "source": [
    "class Rectangulo:\n",
    "    def __init__(self, largo_lado_1, largo_lado_2):\n",
    "        self.largo_lado_1 = largo_lado_1\n",
    "        self.largo_lado_2 = largo_lado_2\n",
    "        self.area = largo_lado_1*largo_lado_2\n",
    "    \n",
    "    def ladoMasLargo(self):\n",
    "        if self.largo_lado_1 > self.largo_lado_2:\n",
    "            return self.largo_lado_1\n",
    "        else:\n",
    "            return self.largo_lado_2"
   ]
  },
  {
   "cell_type": "code",
   "execution_count": 24,
   "metadata": {},
   "outputs": [],
   "source": [
    "'''\n",
    "class Rectangulo:\n",
    "    def __init__(self, largo_lado_1, largo_lado_2):\n",
    "        self.largo_lado_1 = largo_lado_1\n",
    "        self.largo_lado_2 = largo_lado_2\n",
    "        self.area = largo_lado_1*largo_lado_2\n",
    "    \n",
    "    def ladoMasLargo(self):\n",
    "        if self.largo_lado_1 > self.largo_lado_2:\n",
    "            return self.largo_lado_1\n",
    "        elif self.largo_lado_1 < self.largo_lado_2:\n",
    "            return self.largo_lado_2\n",
    "        else:\n",
    "            return self.largo_lado_2            \n",
    "'''"
   ]
  },
  {
   "cell_type": "code",
   "execution_count": 31,
   "metadata": {
    "colab": {},
    "colab_type": "code",
    "id": "PINw95UEDf8u"
   },
   "outputs": [
    {
     "data": {
      "text/plain": [
       "1000"
      ]
     },
     "execution_count": 31,
     "metadata": {},
     "output_type": "execute_result"
    }
   ],
   "source": [
    "rect_1 = Rectangulo(40,20)\n",
    "rect_1.area"
   ]
  },
  {
   "cell_type": "code",
   "execution_count": 32,
   "metadata": {
    "colab": {},
    "colab_type": "code",
    "id": "gUmxxCi_Df8x"
   },
   "outputs": [
    {
     "data": {
      "text/plain": [
       "50"
      ]
     },
     "execution_count": 32,
     "metadata": {},
     "output_type": "execute_result"
    }
   ],
   "source": [
    "rect_1.ladoMasLargo()"
   ]
  },
  {
   "cell_type": "markdown",
   "metadata": {},
   "source": [
    "## 2. Ejercitación\n",
    "\n",
    "¡Sí, seguimos trabajando con dados! Vamos a programar una serie de clases que nos servirán para modelar - muy simplificadamente - algunos fenómenos.\n",
    "\n",
    "**Ejercicio 1:** crea una clase `Dado` cuyos atributos sean la cantidad de lados y la probabilidad asignada a cada lado. Algunas características que debe tener la clase:\n",
    "* Debemos pasar la cantidad de lados cuando creamos una instancia. Por defecto deben ser seis.\n",
    "* Cuando creamos la instancia, se debe asignar la misma probabilidad a cada lado (probabilidad uniforme).\n",
    "* La clase debe contar con el método `tirar_dado`, que debe tomar como argumento la cantidad de veces que queremos tirar el dado.\n",
    "\n",
    "Comprueba que la clase está correctamente programada crean un dados de distinto número de caras, tirando 100000 veces ese dado y haciendo un histograma de sus resultados. ¿Qué deberías obtener?"
   ]
  },
  {
   "cell_type": "code",
   "execution_count": 112,
   "metadata": {},
   "outputs": [],
   "source": [
    "import numpy as np\n",
    "import matplotlib.pyplot as plt"
   ]
  },
  {
   "cell_type": "code",
   "execution_count": 113,
   "metadata": {},
   "outputs": [],
   "source": [
    "class Dado:\n",
    "    #Establecemos el constructor\n",
    "    def __init__(self, n_lados = 6):\n",
    "        self.n_lados = n_lados\n",
    "        self.probabilidades = np.ones(n_lados)/n_lados \n",
    "    \n",
    "    #Definimos el metodo \"tirar_dado\"\n",
    "    def tirar_dado(self, n = 1):\n",
    "        lados = np.arange(1,self.n_lados+1) \n",
    "        resultados = np.random.choice(lados, size = n, p = self.probabilidades)\n",
    "        return resultados\n",
    "\n",
    "#x = np.arange(1,6+1)"
   ]
  },
  {
   "cell_type": "code",
   "execution_count": 114,
   "metadata": {},
   "outputs": [],
   "source": [
    "dado = Dado(10) #Instancio la clase"
   ]
  },
  {
   "cell_type": "code",
   "execution_count": 115,
   "metadata": {},
   "outputs": [
    {
     "data": {
      "text/plain": [
       "(array([0.10069, 0.10161, 0.10133, 0.09983, 0.09958, 0.09923, 0.09944,\n",
       "        0.09919, 0.09822, 0.10088]),\n",
       " array([ 0.5,  1.5,  2.5,  3.5,  4.5,  5.5,  6.5,  7.5,  8.5,  9.5, 10.5]),\n",
       " <BarContainer object of 10 artists>)"
      ]
     },
     "execution_count": 115,
     "metadata": {},
     "output_type": "execute_result"
    },
    {
     "data": {
      "image/png": "[encoded data removed]",
      "text/plain": [
       "<Figure size 432x288 with 1 Axes>"
      ]
     },
     "metadata": {
      "needs_background": "light"
     },
     "output_type": "display_data"
    }
   ],
   "source": [
    "plt.hist(dado.tirar_dado(100000), bins = np.arange(0.5,dado.n_lados + 1.5), rwidth = 0.5, density = True)\n",
    "\n",
    "#La funcion rwidth establece el ancho de las columna y density me escala el eje y a valores decimales"
   ]
  },
  {
   "cell_type": "markdown",
   "metadata": {},
   "source": [
    "**Ejercicio 2**\n",
    "\n",
    "En el mundo de la publicidad, de las aplicaciones, las redes sociales, etc., suele ocurrir el siguiente fenómeno: a medida que más se hace conocido un producto, más probabilidad hay de que se siga comprando o consumiendo. A veces, esto se debe a recomendaciones de conocidos, mayor inversión en publicidad o simplemente el producto ya se convirtió en una marca establecida. Pero otras veces es el mismo producto el que requiere tener consumidores para aumentar su número de consumidores. Por ejemplo, pensemos en una red social. En general, nadie querrá pertenecer a una red social que no tiene usuarios. Y a medida que un mayor número de nuestros conocidos se suman a una red social, más probable es que nos sumemos nosotros. Esto también ocurre en otros ámbitos, ¿se te ocurre dónde?  \n",
    "\n",
    "Un modelo muy inocente de esta situación es pensar que se trata de un dado que se va cargando teniendo en cuenta el histórico de sus resultados. Por ejemplo, si el tres salió muchas veces, esto hace que aumente la probabilidad de que en la próxima tirada salga tres. Pensando en las redes sociales, esto es equivalente a pensar que es más probable que se sumen nuevos usuarios a una red que ya tiene muchos usuarios.\n",
    "\n",
    "Te dejamos programada una clase, `DadoCargado`, que intenta simular esta situación.\n",
    "1. Lee detenidamente el código y trata de entendelo.\n",
    "2. Crea una instancia de `DadoCargado`, tira el dado algunas veces e imprime en pantalla el resultado y las probabilidades. ¿Cómo se van modificando?\n",
    "3. Crea una nueva instancia de `DadoCargado` y haz un gráfico de la evolución de la probabilidad para cada lado en función del número de tiradas.\n",
    "4. ¿Qué ocurre si modificas el valor de `premio`?¿Cambia el comportamiento?"
   ]
  },
  {
   "cell_type": "code",
   "execution_count": 133,
   "metadata": {},
   "outputs": [],
   "source": [
    "class DadoCargado:\n",
    "    def __init__(self, n_lados = 6, premio = 0.1): # Creamos el constructor de la clase dado cargado con 2 atributos (nlados y premio)\n",
    "        self.n_lados = n_lados ## cuando se cree el objeto dado cargado le asignamos el atributo n_lados\n",
    "        self.probabilidades = np.ones(n_lados)/n_lados ## cuando se cree el objeto dado cargado le asignamos el atributo probabilidades\n",
    "        self.premio = premio ## cuando se cree el objeto dado cargado le asignamos el atributo premio\n",
    "        self.resultados = [] ## cuando se cree el objeto dado cargado le asignamos el atributo resultados que inicialmente es una lista vacia\n",
    "        self.counts = np.zeros(n_lados)## cuando se cree el objeto dado cargado le asignamos \n",
    "        #el atributo counts que inicialmmente es un array de zeros dado el numero de lados del dado\n",
    "        \n",
    "    def tirar_dado(self): ## definimos un metodo tirar dado para cuando se cree el objeto instanciado de la clase DadoCargado\n",
    "        lados = np.arange(1,self.n_lados+1)## Generamos el espacio muestral de nuestro dado, por defecto números del 1 al 6\n",
    "        resultados = np.random.choice(lados, 1, p = self.probabilidades)# Generamos un numero aleatorio de nuestra muestra\n",
    "        ## la cual todos tienen la misma probabiliddad de salir\n",
    "        self.resultados +=list(resultados) ## En esta linea, cada vez que tire un dado la lista se ira actualizando\n",
    "        self.counts[resultados[0] - 1] +=1  ## el dado se actualizara la frecuencia con la que caen los dados cada vez que se tira\n",
    "        self.cargar_dado() ## se realiza un llamado al metodo cargar_dado\n",
    "        return resultados\n",
    "    \n",
    "    def cargar_dado(self): ## este metodo reasigna probabilidades dado los resultados que salen al realizar cada lanzamiento\n",
    "        self.probabilidades = self.probabilidades + self.premio*self.counts/self.counts.sum()\n",
    "        self.probabilidades = self.probabilidades/self.probabilidades.sum()"
   ]
  },
  {
   "cell_type": "code",
   "execution_count": 138,
   "metadata": {},
   "outputs": [],
   "source": [
    "# 2.\n",
    "## Creacion de un dado\n",
    "dado = DadoCargado(6)"
   ]
  },
  {
   "cell_type": "code",
   "execution_count": 139,
   "metadata": {},
   "outputs": [
    {
     "name": "stdout",
     "output_type": "stream",
     "text": [
      "[1]\n",
      "[0.24242424 0.15151515 0.15151515 0.15151515 0.15151515 0.15151515]\n",
      "[2]\n",
      "[0.26584022 0.18319559 0.13774105 0.13774105 0.13774105 0.13774105]\n",
      "[6]\n",
      "[0.27197596 0.19684448 0.12521913 0.12521913 0.12521913 0.15552216]\n",
      "[5]\n",
      "[0.26997814 0.2016768  0.11383558 0.11383558 0.13656285 0.16411106]\n",
      "[6]\n",
      "[0.26361649 0.20152436 0.10348689 0.10348689 0.14232986 0.18555551]\n"
     ]
    }
   ],
   "source": [
    "for i in range(5):\n",
    "    print(dado.tirar_dado())\n",
    "    print(dado.probabilidades)"
   ]
  },
  {
   "cell_type": "code",
   "execution_count": 140,
   "metadata": {},
   "outputs": [],
   "source": [
    "# 3.\n",
    "n_tiradas = 5000\n",
    "probabilidades = np.zeros((n_tiradas,dado.n_lados))\n",
    "dado = DadoCargado(6, premio = 0.1)\n",
    "for i in range(n_tiradas):\n",
    "    dado.tirar_dado()\n",
    "    probabilidades[i,:] = dado.probabilidades"
   ]
  },
  {
   "cell_type": "code",
   "execution_count": 141,
   "metadata": {},
   "outputs": [
    {
     "data": {
      "text/plain": [
       "<matplotlib.legend.Legend at 0x229e392d730>"
      ]
     },
     "execution_count": 141,
     "metadata": {},
     "output_type": "execute_result"
    },
    {
     "data": {
      "image/png": "[encoded data removed]",
      "text/plain": [
       "<Figure size 432x288 with 1 Axes>"
      ]
     },
     "metadata": {
      "needs_background": "light"
     },
     "output_type": "display_data"
    }
   ],
   "source": [
    "for lado in range(dado.n_lados):\n",
    "    plt.plot(np.arange(n_tiradas), probabilidades[:,lado], label = lado  + 1) \n",
    "plt.legend()"
   ]
  },
  {
   "cell_type": "markdown",
   "metadata": {},
   "source": [
    "**Ejercicio 3**\n",
    "\n",
    "Siguiendo con el ejemplo de las redes sociales, una vez que dejan de sumarse nuevos miembros a una red - la red pasa de moda - es probable que algunos miembros empiecen a darse de baja. Para incorporar esta situación al modelo, podemos incorporar dos nuevos atributos, `latencia` y `castigo`. Si un resultado no ocurre en un número determinado de tiradas (`latencia`) descontamos `castigo` de las cuentas correspondientes a ese resultado. De esta forma, a medida que pasa el tiempo sin nuevos miembros, disminuye la probabilidad que un miembro nuevo se sume.\n",
    "\n",
    "Nuevamente, te dejamos una clase programada que intenta simular esta situación.\n",
    "1. Lee detenidamente el código y trata de entendelo.\n",
    "2. Crea una instancia de `DadoCargado`, tira el dado algunas veces e imprime en pantalla el resultado y las probabilidades. ¿Cómo se van modificando?\n",
    "3. Crea una nueva instancia de `DadoCargado` y haz un gráfico de la evolución de la probabilidad para cada lado en función del número de tiradas.\n",
    "4. ¿Qué ocurre si modificas el valor de `premio`, `castigo` y `latencia`?¿Cambia el comportamiento?¿Cómo estudiarias ese comportamiento?"
   ]
  },
  {
   "cell_type": "code",
   "execution_count": 128,
   "metadata": {},
   "outputs": [],
   "source": [
    "class DadoCargado:\n",
    "    def __init__(self, n_lados = 6, premio = 0.2, castigo = 1, latencia = 10):\n",
    "        self.n_lados = n_lados\n",
    "        self.probabilidades = np.ones(n_lados)/n_lados\n",
    "        self.premio = premio\n",
    "        self.castigo = castigo\n",
    "        self.latencia = latencia\n",
    "        self.resultados = []\n",
    "        self.counts = np.zeros(n_lados)\n",
    "        \n",
    "    def tirar_dado(self):\n",
    "        lados = np.arange(1,self.n_lados+1)\n",
    "        resultados = np.random.choice(lados, 1, p = self.probabilidades)\n",
    "        self.resultados +=list(resultados)\n",
    "        self.counts[resultados[0] - 1] +=1\n",
    "        self.cargar_dado()\n",
    "        return resultados\n",
    "    \n",
    "    def cargar_dado(self):\n",
    "        if len(self.resultados) >= self.latencia:\n",
    "            lados = np.arange(1,self.n_lados+1)\n",
    "            for lado in lados:\n",
    "                if lado not in self.resultados[-self.latencia:]:\n",
    "                    self.counts[lado - 1] -= self.castigo\n",
    "                    if self.counts[lado - 1]<0:\n",
    "                        self.counts[lado - 1] = 0\n",
    "                        \n",
    "        self.probabilidades = self.probabilidades + self.premio*self.counts/self.counts.sum()\n",
    "        self.probabilidades = self.probabilidades/self.probabilidades.sum()    "
   ]
  },
  {
   "cell_type": "code",
   "execution_count": 142,
   "metadata": {},
   "outputs": [],
   "source": [
    "# 2. \n",
    "dado = DadoCargado(6)"
   ]
  },
  {
   "cell_type": "code",
   "execution_count": 130,
   "metadata": {},
   "outputs": [
    {
     "name": "stdout",
     "output_type": "stream",
     "text": [
      "[4]\n",
      "[0.13888889 0.13888889 0.13888889 0.30555556 0.13888889 0.13888889]\n",
      "[4]\n",
      "[0.11574074 0.11574074 0.11574074 0.4212963  0.11574074 0.11574074]\n",
      "[5]\n",
      "[0.09645062 0.09645062 0.09645062 0.46219136 0.15200617 0.09645062]\n",
      "[4]\n",
      "[0.08037551 0.08037551 0.08037551 0.51015947 0.16833848 0.08037551]\n",
      "[6]\n",
      "[0.0669796  0.0669796  0.0669796  0.52513289 0.1736154  0.10031293]\n",
      "[4]\n",
      "[0.05581633 0.05581633 0.05581633 0.54872185 0.17245728 0.11137189]\n",
      "[4]\n",
      "[0.04651361 0.04651361 0.04651361 0.57631583 0.16752392 0.11661943]\n",
      "[3]\n",
      "[0.03876134 0.03876134 0.05959467 0.58442986 0.1604366  0.11801619]\n",
      "[5]\n",
      "[0.03230112 0.03230112 0.06818075 0.57961747 0.1707342  0.11686534]\n",
      "[4]\n",
      "[0.0269176  0.0269176  0.07348396 0.58301456 0.17561184 0.11405445]\n"
     ]
    }
   ],
   "source": [
    "for i in range(10):\n",
    "    print(dado.tirar_dado())\n",
    "    print(dado.probabilidades)"
   ]
  },
  {
   "cell_type": "code",
   "execution_count": 131,
   "metadata": {},
   "outputs": [],
   "source": [
    "# 3.\n",
    "n_tiradas = 500\n",
    "probabilidades = np.zeros((n_tiradas,dado.n_lados))\n",
    "dado = DadoCargado(6, premio = 0.1)\n",
    "for i in range(n_tiradas):\n",
    "    dado.tirar_dado()\n",
    "    probabilidades[i,:] = dado.probabilidades\n"
   ]
  },
  {
   "cell_type": "code",
   "execution_count": 132,
   "metadata": {},
   "outputs": [
    {
     "data": {
      "text/plain": [
       "<matplotlib.legend.Legend at 0x229e38c8760>"
      ]
     },
     "execution_count": 132,
     "metadata": {},
     "output_type": "execute_result"
    },
    {
     "data": {
      "image/png": "[encoded data removed]",
      "text/plain": [
       "<Figure size 432x288 with 1 Axes>"
      ]
     },
     "metadata": {
      "needs_background": "light"
     },
     "output_type": "display_data"
    }
   ],
   "source": [
    "for lado in range(dado.n_lados):\n",
    "    plt.plot(np.arange(n_tiradas), probabilidades[:,lado], label = lado  + 1) \n",
    "plt.legend()"
   ]
  }
 ],
 "metadata": {
  "colab": {
   "collapsed_sections": [],
   "name": "DS_Clase_11_Clases.ipynb",
   "provenance": []
  },
  "kernelspec": {
   "display_name": "Python 3",
   "language": "python",
   "name": "python3"
  },
  "language_info": {
   "codemirror_mode": {
    "name": "ipython",
    "version": 3
   },
   "file_extension": ".py",
   "mimetype": "text/x-python",
   "name": "python",
   "nbconvert_exporter": "python",
   "pygments_lexer": "ipython3",
   "version": "3.9.1"
  },
  "varInspector": {
   "cols": {
    "lenName": 16,
    "lenType": 16,
    "lenVar": 40
   },
   "kernels_config": {
    "python": {
     "delete_cmd_postfix": "",
     "delete_cmd_prefix": "del ",
     "library": "var_list.py",
     "varRefreshCmd": "print(var_dic_list())"
    },
    "r": {
     "delete_cmd_postfix": ") ",
     "delete_cmd_prefix": "rm(",
     "library": "var_list.r",
     "varRefreshCmd": "cat(var_dic_list()) "
    }
   },
   "types_to_exclude": [
    "module",
    "function",
    "builtin_function_or_method",
    "instance",
    "_Feature"
   ],
   "window_display": false
  }
 },
 "nbformat": 4,
 "nbformat_minor": 4
}
